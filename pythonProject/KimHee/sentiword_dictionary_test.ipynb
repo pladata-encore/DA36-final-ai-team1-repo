{
 "cells": [
  {
   "metadata": {},
   "cell_type": "code",
   "outputs": [],
   "execution_count": null,
   "source": "# pip install konlpy",
   "id": "91e7a93f74dabc0e"
  },
  {
   "cell_type": "code",
   "execution_count": null,
   "id": "initial_id",
   "metadata": {
    "collapsed": true
   },
   "outputs": [],
   "source": [
    "import numpy as np\n",
    "import pandas as pd\n",
    "import matplotlib.pyplot as plt\n",
    "import re\n",
    "import tensorflow as tf\n",
    "from konlpy.tag import Okt"
   ]
  },
  {
   "metadata": {},
   "cell_type": "code",
   "outputs": [],
   "execution_count": null,
   "source": [
    "review_train = pd.read_csv('data/convenience_food_reviews_50.csv')\n",
    "\n",
    "review_train.rename(columns={'리뷰':'review', '라벨':'label'}, inplace=True)\n",
    "\n",
    "reviews = review_train['review']"
   ],
   "id": "e31b18b34b9a277d"
  },
  {
   "metadata": {},
   "cell_type": "code",
   "outputs": [],
   "execution_count": null,
   "source": [
    "from konlpy.tag import Okt\n",
    "okt = Okt()\n",
    "\n",
    "tokens = [okt.morphs(word) for word in reviews]\n",
    "\n",
    "tokens = list(map(lambda x : \" \".join(x), tokens))\n",
    "\n",
    "tokens[:10]"
   ],
   "id": "7b48e23a4d975b7e"
  },
  {
   "metadata": {
    "ExecuteTime": {
     "end_time": "2025-02-01T09:51:29.376492Z",
     "start_time": "2025-02-01T09:51:29.367408Z"
    }
   },
   "cell_type": "code",
   "source": [
    "import json\n",
    "import pandas as pd\n",
    "\n",
    "with open('data/SentiWord_info.json', encoding='utf-8-sig', mode='r') as f:\n",
    "  SentiWord_info = json.load(f)\n",
    "\n",
    "sentiword_dic = pd.DataFrame(SentiWord_info)"
   ],
   "id": "df79cbce7f46cf51",
   "outputs": [],
   "execution_count": null
  },
  {
   "metadata": {},
   "cell_type": "code",
   "outputs": [],
   "execution_count": null,
   "source": [
    "import pandas as pd\n",
    "\n",
    "df = pd.DataFrame(columns=(\"review\", \"sentiment\"))  \n",
    "idx = 0                                             \n",
    "\n",
    "for token in tokens:                   \n",
    "  sentiment = 0 # sentiment값 0 초기값 설정                         \n",
    "  for i in range(0, len(sentiword_dic)):\n",
    "    if sentiword_dic.word[i] in token:\n",
    "      sentiment += int(sentiword_dic.polarity[i]) # 감성단어 유무에 따라 값의 합\n",
    "  df.loc[idx] = [token, sentiment] \n",
    "  idx += 1"
   ],
   "id": "1dc2a025f5def7d2"
  },
  {
   "metadata": {},
   "cell_type": "code",
   "outputs": [],
   "execution_count": null,
   "source": "",
   "id": "afeb1e62bf418de8"
  },
  {
   "metadata": {},
   "cell_type": "code",
   "outputs": [],
   "execution_count": null,
   "source": "",
   "id": "6a419f9593559ae9"
  }
 ],
 "metadata": {
  "kernelspec": {
   "display_name": "Python 3",
   "language": "python",
   "name": "python3"
  },
  "language_info": {
   "codemirror_mode": {
    "name": "ipython",
    "version": 2
   },
   "file_extension": ".py",
   "mimetype": "text/x-python",
   "name": "python",
   "nbconvert_exporter": "python",
   "pygments_lexer": "ipython2",
   "version": "2.7.6"
  }
 },
 "nbformat": 4,
 "nbformat_minor": 5
}
